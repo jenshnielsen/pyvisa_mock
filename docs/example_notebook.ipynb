{
 "cells": [
  {
   "cell_type": "markdown",
   "metadata": {},
   "source": [
    "# Introduction \n",
    "\n",
    "This example requires QCoDeS"
   ]
  },
  {
   "cell_type": "code",
   "execution_count": 1,
   "metadata": {},
   "outputs": [],
   "source": [
    "from collections import defaultdict\n",
    "import numpy as np \n",
    "\n",
    "from visa_mock.base.base_mocker import BaseMocker, scpi\n",
    "from visa_mock.base.register import register_resource\n",
    "from qcodes import VisaInstrument, InstrumentChannel\n",
    "from qcodes.instrument_drivers.stahl import Stahl"
   ]
  },
  {
   "cell_type": "code",
   "execution_count": 2,
   "metadata": {},
   "outputs": [],
   "source": [
    "class Mocker(BaseMocker):\n",
    "    \"\"\"\n",
    "    A mocker class mocking a multi channel voltage source.\n",
    "    Voltages are zero by default\n",
    "    \"\"\"\n",
    "\n",
    "    def __init__(self):\n",
    "        self._voltage = defaultdict(lambda: 0)\n",
    "\n",
    "    @scpi(\"\\*IDN\\?\")\n",
    "    def idn(self): \n",
    "        \"\"\"\n",
    "        'vendor', 'model', 'serial', 'firmware'\n",
    "        \"\"\"\n",
    "        return \"Mocker,testing,00000,0.01\"\n",
    "\n",
    "    # Lets define handler functions. Notice how we can be \n",
    "    # lazy in our regular expressions (using \".*\"). The \n",
    "    # typehints will be used to cast strings to the \n",
    "    # required types\n",
    "    \n",
    "    @scpi(r\":INSTR:CHANNEL(.*):VOLT (.*)\")\n",
    "    def _set_voltage(self, channel: int, value: float) -> None:\n",
    "        self._voltage[channel] = value\n",
    "\n",
    "    @scpi(r\":INSTR:CHANNEL(.*):VOLT\\?\")\n",
    "    def _get_voltage(self, channel: int) -> float:\n",
    "        return self._voltage[channel]"
   ]
  },
  {
   "cell_type": "code",
   "execution_count": 3,
   "metadata": {},
   "outputs": [],
   "source": [
    "class MyInstrumentChannel(InstrumentChannel): \n",
    "    def __init__(self, parent, name, channel): \n",
    "        super().__init__(parent, name)\n",
    "        \n",
    "        self.add_parameter(\n",
    "            \"voltage\", \n",
    "            get_cmd=f\":INSTR:CHANNEL{channel}:VOLT?\", \n",
    "            set_cmd=f\":INSTR:CHANNEL{channel}:VOLT {{}}\", \n",
    "            get_parser=float, \n",
    "            unit=\"V\"\n",
    "        )\n",
    "        \n",
    "class MyInstrument(VisaInstrument): \n",
    "    \n",
    "    n_channels = 10\n",
    "    \n",
    "    def __init__(self, name, address, **kwargs): \n",
    "        super().__init__(name, address, **kwargs)\n",
    "        \n",
    "        for channel in range(self.n_channels): \n",
    "            \n",
    "            submodule = MyInstrumentChannel(\n",
    "                self, \n",
    "                f\"channel{channel}\", \n",
    "                channel\n",
    "            )\n",
    "            \n",
    "            self.add_submodule(\n",
    "                f\"channel{channel}\", \n",
    "                submodule\n",
    "            )\n",
    "            \n",
    "        self.connect_message()"
   ]
  },
  {
   "cell_type": "code",
   "execution_count": 4,
   "metadata": {},
   "outputs": [],
   "source": [
    "register_resource(\"MOCK0::mock1::INSTR\", Mocker())"
   ]
  },
  {
   "cell_type": "code",
   "execution_count": 5,
   "metadata": {},
   "outputs": [
    {
     "name": "stdout",
     "output_type": "stream",
     "text": [
      "Connected to: Mocker testing (serial:00000, firmware:0.01) in 0.01s\n"
     ]
    }
   ],
   "source": [
    "my_instrument = MyInstrument(\"myinst\", \"MOCK0::mock1::INSTR\", visalib=\"@mock\")"
   ]
  },
  {
   "cell_type": "code",
   "execution_count": 6,
   "metadata": {},
   "outputs": [
    {
     "data": {
      "text/plain": [
       "0.0"
      ]
     },
     "execution_count": 6,
     "metadata": {},
     "output_type": "execute_result"
    }
   ],
   "source": [
    "my_instrument.channel1.voltage()"
   ]
  },
  {
   "cell_type": "code",
   "execution_count": 7,
   "metadata": {},
   "outputs": [],
   "source": [
    "my_instrument.channel1.voltage(2.1)"
   ]
  },
  {
   "cell_type": "code",
   "execution_count": 8,
   "metadata": {},
   "outputs": [
    {
     "data": {
      "text/plain": [
       "2.1"
      ]
     },
     "execution_count": 8,
     "metadata": {},
     "output_type": "execute_result"
    }
   ],
   "source": [
    "my_instrument.channel1.voltage()"
   ]
  },
  {
   "cell_type": "code",
   "execution_count": 9,
   "metadata": {},
   "outputs": [],
   "source": [
    "my_instrument.channel2.voltage(-2.1)"
   ]
  },
  {
   "cell_type": "code",
   "execution_count": 10,
   "metadata": {},
   "outputs": [
    {
     "data": {
      "text/plain": [
       "-2.1"
      ]
     },
     "execution_count": 10,
     "metadata": {},
     "output_type": "execute_result"
    }
   ],
   "source": [
    "my_instrument.channel2.voltage()"
   ]
  },
  {
   "cell_type": "code",
   "execution_count": 11,
   "metadata": {},
   "outputs": [
    {
     "data": {
      "text/plain": [
       "2.1"
      ]
     },
     "execution_count": 11,
     "metadata": {},
     "output_type": "execute_result"
    }
   ],
   "source": [
    "my_instrument.channel1.voltage()"
   ]
  },
  {
   "cell_type": "code",
   "execution_count": 12,
   "metadata": {},
   "outputs": [
    {
     "ename": "ValueError",
     "evalue": "This decorator requires all arguments to be annotated",
     "output_type": "error",
     "traceback": [
      "\u001b[1;31m---------------------------------------------------------------------------\u001b[0m",
      "\u001b[1;31mValueError\u001b[0m                                Traceback (most recent call last)",
      "\u001b[1;32m<ipython-input-12-96839cd8ee0d>\u001b[0m in \u001b[0;36m<module>\u001b[1;34m\u001b[0m\n\u001b[1;32m----> 1\u001b[1;33m \u001b[1;32mclass\u001b[0m \u001b[0mBadMocker\u001b[0m\u001b[1;33m(\u001b[0m\u001b[0mBaseMocker\u001b[0m\u001b[1;33m)\u001b[0m\u001b[1;33m:\u001b[0m\u001b[1;33m\u001b[0m\u001b[1;33m\u001b[0m\u001b[0m\n\u001b[0m\u001b[0;32m      2\u001b[0m     \"\"\"\n\u001b[0;32m      3\u001b[0m     \u001b[0mA\u001b[0m \u001b[0mmocker\u001b[0m \u001b[1;32mclass\u001b[0m \u001b[0mmocking\u001b[0m \u001b[0ma\u001b[0m \u001b[0mmulti\u001b[0m \u001b[0mchannel\u001b[0m \u001b[0mvoltage\u001b[0m \u001b[0msource\u001b[0m\u001b[1;33m.\u001b[0m\u001b[1;33m\u001b[0m\u001b[1;33m\u001b[0m\u001b[0m\n\u001b[0;32m      4\u001b[0m     \u001b[0mVoltages\u001b[0m \u001b[0mare\u001b[0m \u001b[0mzero\u001b[0m \u001b[0mby\u001b[0m \u001b[0mdefault\u001b[0m\u001b[1;33m\u001b[0m\u001b[1;33m\u001b[0m\u001b[0m\n\u001b[0;32m      5\u001b[0m     \"\"\"\n",
      "\u001b[1;32m<ipython-input-12-96839cd8ee0d>\u001b[0m in \u001b[0;36mBadMocker\u001b[1;34m()\u001b[0m\n\u001b[0;32m     21\u001b[0m \u001b[1;33m\u001b[0m\u001b[0m\n\u001b[0;32m     22\u001b[0m     \u001b[1;33m@\u001b[0m\u001b[0mscpi\u001b[0m\u001b[1;33m(\u001b[0m\u001b[1;34mr\":INSTR:CHANNEL(.*):VOLT (.*)\"\u001b[0m\u001b[1;33m)\u001b[0m\u001b[1;33m\u001b[0m\u001b[1;33m\u001b[0m\u001b[0m\n\u001b[1;32m---> 23\u001b[1;33m     \u001b[1;32mdef\u001b[0m \u001b[0m_set_voltage\u001b[0m\u001b[1;33m(\u001b[0m\u001b[0mself\u001b[0m\u001b[1;33m,\u001b[0m \u001b[0mchannel\u001b[0m\u001b[1;33m:\u001b[0m \u001b[0mint\u001b[0m\u001b[1;33m,\u001b[0m \u001b[0mvalue\u001b[0m\u001b[1;33m)\u001b[0m \u001b[1;33m->\u001b[0m \u001b[1;32mNone\u001b[0m\u001b[1;33m:\u001b[0m\u001b[1;33m\u001b[0m\u001b[1;33m\u001b[0m\u001b[0m\n\u001b[0m\u001b[0;32m     24\u001b[0m         \u001b[0mself\u001b[0m\u001b[1;33m.\u001b[0m\u001b[0m_voltage\u001b[0m\u001b[1;33m[\u001b[0m\u001b[0mchannel\u001b[0m\u001b[1;33m]\u001b[0m \u001b[1;33m=\u001b[0m \u001b[0mvalue\u001b[0m\u001b[1;33m\u001b[0m\u001b[1;33m\u001b[0m\u001b[0m\n",
      "\u001b[1;32mc:\\users\\sochatoo\\development\\visa_mock\\visa_mock\\base\\base_mocker.py\u001b[0m in \u001b[0;36mdecorator\u001b[1;34m(function)\u001b[0m\n\u001b[0;32m     76\u001b[0m         \u001b[1;32mdef\u001b[0m \u001b[0mdecorator\u001b[0m\u001b[1;33m(\u001b[0m\u001b[0mfunction\u001b[0m\u001b[1;33m)\u001b[0m\u001b[1;33m:\u001b[0m\u001b[1;33m\u001b[0m\u001b[1;33m\u001b[0m\u001b[0m\n\u001b[0;32m     77\u001b[0m             __tmp_scpi_dict__[scpi_string] = cast_from_annotation(\n\u001b[1;32m---> 78\u001b[1;33m                 \u001b[0mfunction\u001b[0m\u001b[1;33m\u001b[0m\u001b[1;33m\u001b[0m\u001b[0m\n\u001b[0m\u001b[0;32m     79\u001b[0m             )\n\u001b[0;32m     80\u001b[0m \u001b[1;33m\u001b[0m\u001b[0m\n",
      "\u001b[1;32mc:\\users\\sochatoo\\development\\visa_mock\\visa_mock\\base\\base_mocker.py\u001b[0m in \u001b[0;36mcast_from_annotation\u001b[1;34m(function)\u001b[0m\n\u001b[0;32m     30\u001b[0m     \u001b[1;32mif\u001b[0m \u001b[0mlen\u001b[0m\u001b[1;33m(\u001b[0m\u001b[0mannotations\u001b[0m\u001b[1;33m)\u001b[0m \u001b[1;33m!=\u001b[0m \u001b[0mlen\u001b[0m\u001b[1;33m(\u001b[0m\u001b[0mparameters\u001b[0m\u001b[1;33m)\u001b[0m\u001b[1;33m:\u001b[0m\u001b[1;33m\u001b[0m\u001b[1;33m\u001b[0m\u001b[0m\n\u001b[0;32m     31\u001b[0m         raise ValueError(\n\u001b[1;32m---> 32\u001b[1;33m             \u001b[1;34m\"This decorator requires all arguments to be annotated\"\u001b[0m\u001b[1;33m\u001b[0m\u001b[1;33m\u001b[0m\u001b[0m\n\u001b[0m\u001b[0;32m     33\u001b[0m         )\n\u001b[0;32m     34\u001b[0m \u001b[1;33m\u001b[0m\u001b[0m\n",
      "\u001b[1;31mValueError\u001b[0m: This decorator requires all arguments to be annotated"
     ]
    }
   ],
   "source": [
    "class BadMocker(BaseMocker):\n",
    "    \"\"\"\n",
    "    A mocker class mocking a multi channel voltage source.\n",
    "    Voltages are zero by default. \n",
    "    \n",
    "    Note: This code will raise a ValueError\n",
    "    \"\"\"\n",
    "\n",
    "    def __init__(self):\n",
    "        self._voltage = defaultdict(lambda: 0)\n",
    "\n",
    "    @scpi(\"\\*IDN\\?\")\n",
    "    def idn(self): \n",
    "        \"\"\"\n",
    "        'vendor', 'model', 'serial', 'firmware'\n",
    "        \"\"\"\n",
    "        return \"Mocker,testing,00000,0.01\"\n",
    "\n",
    "    # We show that all handler functions *have* to have\n",
    "    # annotated arguments.... otherwise a ValueError is \n",
    "    # generated. \n",
    "    \n",
    "    @scpi(r\":INSTR:CHANNEL(.*):VOLT (.*)\")\n",
    "    def _set_voltage(self, channel: int, value) -> None:\n",
    "        self._voltage[channel] = value"
   ]
  },
  {
   "cell_type": "code",
   "execution_count": null,
   "metadata": {},
   "outputs": [],
   "source": []
  }
 ],
 "metadata": {
  "kernelspec": {
   "display_name": "Python 3",
   "language": "python",
   "name": "python3"
  },
  "language_info": {
   "codemirror_mode": {
    "name": "ipython",
    "version": 3
   },
   "file_extension": ".py",
   "mimetype": "text/x-python",
   "name": "python",
   "nbconvert_exporter": "python",
   "pygments_lexer": "ipython3",
   "version": "3.7.4"
  }
 },
 "nbformat": 4,
 "nbformat_minor": 2
}
